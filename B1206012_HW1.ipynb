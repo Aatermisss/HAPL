{
  "nbformat": 4,
  "nbformat_minor": 0,
  "metadata": {
    "colab": {
      "provenance": []
    },
    "kernelspec": {
      "name": "python3",
      "display_name": "Python 3"
    },
    "language_info": {
      "name": "python"
    }
  },
  "cells": [
    {
      "cell_type": "code",
      "execution_count": null,
      "metadata": {
        "colab": {
          "base_uri": "https://localhost:8080/"
        },
        "id": "kTFfsi5G4cR5",
        "outputId": "4e766e85-dd12-452f-f4a1-ec366fef9aff"
      },
      "outputs": [
        {
          "output_type": "stream",
          "name": "stdout",
          "text": [
            "I'm a student\n"
          ]
        }
      ],
      "source": [
        "print('''I'm a student''')"
      ]
    },
    {
      "cell_type": "code",
      "source": [
        "import math\n",
        "\n",
        "a=int(input(\"輸入x1=\"))\n",
        "b=int(input(\"輸入y1=\"))\n",
        "c=int(input(\"輸入x2=\"))\n",
        "d=int(input(\"輸入y2=\"))\n",
        "\n",
        "z=math.sqrt((a-c)**2+(b-d)**2)\n",
        "print(z)"
      ],
      "metadata": {
        "colab": {
          "base_uri": "https://localhost:8080/"
        },
        "id": "Kv2YZldB4sro",
        "outputId": "03be11c5-447e-48c7-adb4-f0a5609ba7a1"
      },
      "execution_count": 1,
      "outputs": [
        {
          "output_type": "stream",
          "name": "stdout",
          "text": [
            "輸入x1=1\n",
            "輸入y1=1\n",
            "輸入x2=2\n",
            "輸入y2=2\n",
            "1.4142135623730951\n"
          ]
        }
      ]
    },
    {
      "cell_type": "code",
      "source": [
        "h=int(input(\"請輸入身高=\"))\n",
        "w=int(input(\"請輸入體重=\"))\n",
        "bmi=w/((h/100)**2)\n",
        "print(bmi)"
      ],
      "metadata": {
        "colab": {
          "base_uri": "https://localhost:8080/"
        },
        "id": "CgOumzBnHuE6",
        "outputId": "1a55ac5d-a7ef-475f-b13f-13a5fab0f183"
      },
      "execution_count": 3,
      "outputs": [
        {
          "output_type": "stream",
          "name": "stdout",
          "text": [
            "請輸入身高=170\n",
            "請輸入體重=55\n",
            "19.031141868512112\n"
          ]
        }
      ]
    }
  ]
}