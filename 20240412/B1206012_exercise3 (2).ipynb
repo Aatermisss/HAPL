{
  "nbformat": 4,
  "nbformat_minor": 0,
  "metadata": {
    "colab": {
      "provenance": []
    },
    "kernelspec": {
      "name": "python3",
      "display_name": "Python 3"
    },
    "language_info": {
      "name": "python"
    }
  },
  "cells": [
    {
      "cell_type": "code",
      "execution_count": 9,
      "metadata": {
        "colab": {
          "base_uri": "https://localhost:8080/"
        },
        "id": "A7SSeIR-vIvW",
        "outputId": "b2f99565-ae31-4441-8fe1-a4344cda89f4"
      },
      "outputs": [
        {
          "output_type": "stream",
          "name": "stdout",
          "text": [
            "身高(公分)=170\n",
            "體重(公斤)=55\n",
            "BMI: 19.031141868512112\n",
            "體位:適中\n"
          ]
        }
      ],
      "source": [
        "a=int(input(\"身高(公分)=\"))\n",
        "b=int(input('體重(公斤)='))\n",
        "a/=100\n",
        "a**=2\n",
        "BMI=b/a\n",
        "print('BMI:',BMI)\n",
        "if BMI<18.5:\n",
        "  print('體位:過輕')\n",
        "elif 18.5<=BMI<24:\n",
        "  print('體位:適中')\n",
        "elif 24<BMI<27:\n",
        "  print('體位:過重')\n",
        "else:\n",
        "  print('體位:肥胖')"
      ]
    },
    {
      "cell_type": "code",
      "source": [
        "a=int(input(\"請輸入第一個數字:\"))\n",
        "b=(input(\"請輸入運算符號:\"))\n",
        "c=int(input(\"請輸入第二個數字:\"))\n",
        "if b==\"+\":\n",
        "  d=a+c\n",
        "  print(d)\n",
        "elif b==\"-\":\n",
        "  e=a-c\n",
        "  print(e)\n",
        "elif b==\"*\":\n",
        "  f=a*c\n",
        "  print (f)\n",
        "elif b==\"/\" :\n",
        "  g=a/c\n",
        "  print(g)"
      ],
      "metadata": {
        "colab": {
          "base_uri": "https://localhost:8080/"
        },
        "id": "vbgiIqCW1qpv",
        "outputId": "a6c80c34-cef9-4035-ed18-4b0cbae78f06"
      },
      "execution_count": 10,
      "outputs": [
        {
          "output_type": "stream",
          "name": "stdout",
          "text": [
            "請輸入第一個數字:12\n",
            "請輸入運算符號:/\n",
            "請輸入第二個數字:4\n",
            "3.0\n"
          ]
        }
      ]
    }
  ]
}