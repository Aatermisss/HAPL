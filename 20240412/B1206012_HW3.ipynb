{
  "nbformat": 4,
  "nbformat_minor": 0,
  "metadata": {
    "colab": {
      "provenance": []
    },
    "kernelspec": {
      "name": "python3",
      "display_name": "Python 3"
    },
    "language_info": {
      "name": "python"
    }
  },
  "cells": [
    {
      "cell_type": "code",
      "execution_count": 6,
      "metadata": {
        "id": "c8Z2xzdh_4Ic",
        "colab": {
          "base_uri": "https://localhost:8080/"
        },
        "outputId": "40efb64d-a820-495b-c3a6-d5bd8a0d0413"
      },
      "outputs": [
        {
          "output_type": "stream",
          "name": "stdout",
          "text": [
            "輸入年份:2000\n",
            "閏年\n"
          ]
        }
      ],
      "source": [
        "a=int(input(\"輸入年份:\"))\n",
        "if a%4!=0:\n",
        "  print(\"平年\")\n",
        "elif a<=1582 and a%4==0:\n",
        "  print(\"閏年\")\n",
        "elif a>1582:\n",
        "  if a%4==0:\n",
        "    if a%100!=0 or a%400==0:\n",
        "      print(\"閏年\")\n",
        "else:\n",
        "  print(\"平年\")"
      ]
    }
  ]
}