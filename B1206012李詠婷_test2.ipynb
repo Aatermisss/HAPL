{
  "nbformat": 4,
  "nbformat_minor": 0,
  "metadata": {
    "colab": {
      "provenance": []
    },
    "kernelspec": {
      "name": "python3",
      "display_name": "Python 3"
    },
    "language_info": {
      "name": "python"
    }
  },
  "cells": [
    {
      "cell_type": "code",
      "execution_count": null,
      "metadata": {
        "colab": {
          "base_uri": "https://localhost:8080/"
        },
        "id": "btnZx0ac0NB9",
        "outputId": "ad45e2a9-d3c9-40d3-9a8e-c22177d37491"
      },
      "outputs": [
        {
          "output_type": "stream",
          "name": "stdout",
          "text": [
            "ans.is =  220.0\n"
          ]
        }
      ],
      "source": [
        "x=2; y=1\n",
        "a=5*x+y\n",
        "b=100/5\n",
        "z=a*b\n",
        "print(\"ans.is = \", z)\n"
      ]
    },
    {
      "cell_type": "code",
      "source": [
        "y=4\n",
        "a=2*y+1\n",
        "b=100/a\n",
        "print(\"ans. is =\", b)"
      ],
      "metadata": {
        "colab": {
          "base_uri": "https://localhost:8080/"
        },
        "id": "em2ZmZZh02sj",
        "outputId": "d3522a4e-2c45-48c2-cf4f-669f82732782"
      },
      "execution_count": null,
      "outputs": [
        {
          "output_type": "stream",
          "name": "stdout",
          "text": [
            "ans. is = 11.11111111111111\n"
          ]
        }
      ]
    }
  ]
}