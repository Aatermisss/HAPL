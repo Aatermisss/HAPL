{
  "nbformat": 4,
  "nbformat_minor": 0,
  "metadata": {
    "colab": {
      "provenance": []
    },
    "kernelspec": {
      "name": "python3",
      "display_name": "Python 3"
    },
    "language_info": {
      "name": "python"
    }
  },
  "cells": [
    {
      "cell_type": "code",
      "execution_count": null,
      "metadata": {
        "id": "4lJbYMmC7Hpb",
        "colab": {
          "base_uri": "https://localhost:8080/"
        },
        "outputId": "54de63d5-c69b-4f83-a28d-7a4948340207"
      },
      "outputs": [
        {
          "output_type": "stream",
          "name": "stdout",
          "text": [
            "聖誕樹層數:20\n",
            "                    *                    \n",
            "                   ***                   \n",
            "                  *****                  \n",
            "                 *******                 \n",
            "                *********                \n",
            "               ***********               \n",
            "              *************              \n",
            "             ***************             \n",
            "            *****************            \n",
            "           *******************           \n",
            "          *********************          \n",
            "         ***********************         \n",
            "        *************************        \n",
            "       ***************************       \n",
            "      *****************************      \n",
            "     *******************************     \n",
            "    *********************************    \n",
            "   ***********************************   \n",
            "  *************************************  \n",
            " *************************************** \n",
            "                   ***\n",
            "                   ***\n",
            "                   ***\n",
            "                   ***\n",
            "                   ***\n"
          ]
        }
      ],
      "source": [
        "def tree(a):\n",
        "  result=a\n",
        "  q=' '\n",
        "  for i in range(1,a*2+1,+2):\n",
        "    print(f\"{q*int(((a*2+1-i)/2))}{'*'*i}{q*int(((a*2+1-i)/2))}\")\n",
        "  for b in range(5):\n",
        "    print(' '*(a-1)+'***')\n",
        "a=int(input(\"聖誕樹層數:\"))\n",
        "tree(a)"
      ]
    },
    {
      "cell_type": "code",
      "source": [
        "def output(h1,w1):\n",
        "  bmi=w1/((h1/100)**2)\n",
        "  if bmi<18.5:\n",
        "    r='體位:過輕'\n",
        "  elif 18.5<=bmi<24:\n",
        "    r='體位:適中'\n",
        "  elif 24<bmi<27:\n",
        "    r='體位:過重'\n",
        "  else:\n",
        "    r='體位:肥胖'\n",
        "\n",
        "  return bmi,r\n",
        "\n",
        "h=int(input(\"身高(公分):\"))\n",
        "w=int(input(\"體重:\"))\n",
        "\n",
        "b,c=output(h,w)\n",
        "print(b)\n",
        "print(c)"
      ],
      "metadata": {
        "colab": {
          "base_uri": "https://localhost:8080/"
        },
        "id": "Yppw1RodDFx9",
        "outputId": "473d1ef5-5379-4151-bc0a-af88908695fc"
      },
      "execution_count": 11,
      "outputs": [
        {
          "output_type": "stream",
          "name": "stdout",
          "text": [
            "身高(公分):170\n",
            "體重:55\n",
            "19.031141868512112\n",
            "體位:適中\n"
          ]
        }
      ]
    }
  ]
}